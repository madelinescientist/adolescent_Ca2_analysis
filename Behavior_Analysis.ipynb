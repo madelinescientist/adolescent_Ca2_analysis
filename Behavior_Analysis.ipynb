{
 "cells": [
  {
   "cell_type": "markdown",
   "id": "ed2dd52f",
   "metadata": {},
   "source": [
    "# 1. Evaluate Running Velocity After Cue Onset"
   ]
  },
  {
   "cell_type": "code",
   "execution_count": 3,
   "id": "575a27de",
   "metadata": {},
   "outputs": [],
   "source": [
    "import numpy as np\n",
    "import pandas as pd\n",
    "import os\n",
    "from ast import literal_eval\n",
    "import scipy.stats\n",
    "import matplotlib.pyplot as plt\n",
    "%matplotlib inline"
   ]
  },
  {
   "cell_type": "markdown",
   "id": "02583935",
   "metadata": {},
   "source": [
    "Here, I load in previously generated behavior dataframes (generated from FullPipelineCa2_HongliEdits) and collect the running speeds with timestamps within the [-2 s, 2s] window surrounding cue onset. I sort trials by stimulus type (go or no-go) and combine all timestamps in this window from the same stimulus type across animals."
   ]
  },
  {
   "cell_type": "code",
   "execution_count": null,
   "id": "dab94a30",
   "metadata": {},
   "outputs": [],
   "source": [
    "# this folder contains all late learning sessions\n",
    "exp_folder = r\"\\\\filenest.diskstation.me\\Wilbrecht_file_server\\HongliWang\\Madeline\\LateLearning\\Data\"\n",
    "\n",
    "# initialize lists of running speeds and their respective timestamps\n",
    "ADTgo_speed = []\n",
    "ADTgo_timestamp = []\n",
    "ADTnogo_speed = []\n",
    "ADTnogo_timestamp = []\n",
    "JUVgo_speed = []\n",
    "JUVgo_timestamp = []\n",
    "JUVnogo_speed = []\n",
    "JUVnogo_timestamp = []\n",
    "\n",
    "for animal in os.listdir(exp_folder):\n",
    "    animal_path = os.path.join(exp_folder,animal)\n",
    "    licks = []\n",
    "    for session in os.listdir(animal_path):\n",
    "        session_path = os.path.join(animal_path,session)\n",
    "        avg_speed = []\n",
    "        session_licks = []\n",
    "        if os.path.isdir(os.path.join(session_path,'suite2p')): # make sure we only look at animals with imaging data\n",
    "            # change directory to behavior folder\n",
    "            behav_folder = fr\"\\\\filenest.diskstation.me\\Wilbrecht_file_server\\Madeline\\processed_data\\Data\\{animal}\\{session}\"\n",
    "            # load behavior dataframe\n",
    "            behavior = pd.read_csv(fr\"{behav_folder}\\{animal}_{session}_behavior_output.csv\")\n",
    "            # this is something I had to google - it properly formats the dataframe from the csv file for columns that contain lists\n",
    "            behavior[['licks','running_speed','running_time']] = behavior[['licks','running_speed','running_time']].applymap(literal_eval)        \n",
    "            go = behavior[behavior['go_nogo']=='go']\n",
    "            nogo = behavior[behavior['go_nogo']=='nogo']\n",
    "            if 'ADT' in animal:\n",
    "                for index, trial in go.iterrows():\n",
    "                    onset_time = trial['onset']\n",
    "                    # evaluate each time stamp for each running speed data point relative to the trial onset\n",
    "                    for stamp in range(0,len(trial['running_time'])):\n",
    "                        # if within [-2, 2] window, add to list. We collect both speed and its timestamp in separate lists\n",
    "                        if trial['running_time'][stamp] - onset_time < 2 and trial['running_time'][stamp] - onset_time > -2:\n",
    "                            ADTgo_speed.append(trial['running_speed'][stamp])\n",
    "                            ADTgo_timestamp.append(trial['running_time'][stamp] - onset_time)\n",
    "                for index, trial in nogo.iterrows():\n",
    "                    onset_time = trial['onset']\n",
    "                    for stamp in range(0,len(trial['running_time'])):\n",
    "                        if trial['running_time'][stamp] - onset_time < 2 and trial['running_time'][stamp] - onset_time > -2:\n",
    "                            ADTnogo_speed.append(trial['running_speed'][stamp])\n",
    "                            ADTnogo_timestamp.append(trial['running_time'][stamp] - onset_time)\n",
    "            if 'JUV' in animal:\n",
    "                for index, trial in go.iterrows():\n",
    "                    onset_time = trial['onset']\n",
    "                    for stamp in range(0,len(trial['running_time'])):\n",
    "                        if trial['running_time'][stamp] - onset_time < 2 and trial['running_time'][stamp] - onset_time > -2:\n",
    "                            JUVgo_speed.append(trial['running_speed'][stamp])\n",
    "                            JUVgo_timestamp.append(trial['running_time'][stamp] - onset_time)\n",
    "                for index, trial in nogo.iterrows():\n",
    "                    onset_time = trial['onset']\n",
    "                    for stamp in range(0,len(trial['running_time'])):\n",
    "                        if trial['running_time'][stamp] - onset_time < 2 and trial['running_time'][stamp] - onset_time > -2:\n",
    "                            JUVnogo_speed.append(trial['running_speed'][stamp])\n",
    "                            JUVnogo_timestamp.append(trial['running_time'][stamp] - onset_time)a"
   ]
  },
  {
   "cell_type": "markdown",
   "id": "efaf6b2d",
   "metadata": {},
   "source": [
    "Now, we want to arrange all of our collected running speeds in chronological order within the [-2, 2] window! We can do this because each speed is linked to its timestamp by the order in which it was added to the list."
   ]
  },
  {
   "cell_type": "code",
   "execution_count": null,
   "id": "5f003443",
   "metadata": {},
   "outputs": [],
   "source": [
    "binsize = 0.1 # group speeds in bins of 100 ms (i.e., [0, 100 ms])\n",
    "\n",
    "# initialize lists of lists (one list for each bin)\n",
    "JUVnogo_speeds_sorted = []\n",
    "JUVgo_speeds_sorted = []\n",
    "ADTnogo_speeds_sorted = []\n",
    "ADTgo_speeds_sorted = []\n",
    "\n",
    "for i in list(np.arange(-2.0, 2.0, binsize)): # for each bin, starting at bin [-2, -1.9 s]\n",
    "     # identify the list index of each timestamp and add it into a list called \"idx\"...\n",
    "    idx = [stamp for stamp in range(len(JUVnogo_timestamp))\n",
    "           if JUVnogo_timestamp[stamp] > i and JUVnogo_timestamp[stamp] < i+binsize] # only if it falls into the bin\n",
    "    speeds = [] # temp list\n",
    "    for x in idx: # for each identified list index of a timestamp within the current bin,\n",
    "        speeds.append(JUVnogo_speed[x]) # identify the speed sharing the same index and add it to our temp list\n",
    "    JUVnogo_speeds_sorted.append(speeds) # add the list of speeds for the current bin to our master list\n",
    "\n",
    "for i in list(np.arange(-2.0, 2.0, binsize)):\n",
    "    idx = [stamp for stamp in range(len(JUVgo_timestamp)) \n",
    "           if JUVgo_timestamp[stamp] > i and JUVgo_timestamp[stamp] < i+binsize]\n",
    "    speeds = []\n",
    "    for x in idx:\n",
    "        speeds.append(JUVgo_speed[x])\n",
    "    JUVgo_speeds_sorted.append(speeds)\n",
    "\n",
    "for i in list(np.arange(-2.0, 2.0, binsize)):\n",
    "    idx = [stamp for stamp in range(len(ADTnogo_timestamp)) \n",
    "           if ADTnogo_timestamp[stamp] > i and ADTnogo_timestamp[stamp] < i+binsize]\n",
    "    speeds = []\n",
    "    for x in idx:\n",
    "        speeds.append(ADTnogo_speed[x])\n",
    "    ADTnogo_speeds_sorted.append(speeds)\n",
    "    \n",
    "for i in list(np.arange(-2.0, 2.0, binsize)):\n",
    "    idx = [stamp for stamp in range(len(ADTgo_timestamp)) \n",
    "           if ADTgo_timestamp[stamp] > i and ADTgo_timestamp[stamp] < i+binsize]\n",
    "    speeds = []\n",
    "    for x in idx:\n",
    "        speeds.append(ADTgo_speed[x])\n",
    "    ADTgo_speeds_sorted.append(speeds)"
   ]
  },
  {
   "cell_type": "markdown",
   "id": "84e00081",
   "metadata": {},
   "source": [
    "Now generate and save our plot!"
   ]
  },
  {
   "cell_type": "code",
   "execution_count": 21,
   "id": "683588fe",
   "metadata": {
    "scrolled": false
   },
   "outputs": [
    {
     "data": {
      "image/png": "[encoded data removed]",
      "text/plain": [
       "<Figure size 864x432 with 1 Axes>"
      ]
     },
     "metadata": {
      "needs_background": "light"
     },
     "output_type": "display_data"
    }
   ],
   "source": [
    "fig = plt.figure(figsize =(12, 6)) \n",
    "ax = fig.add_axes([0, 0, 1, 1]) \n",
    "bp = ax.boxplot(JUVnogo_speeds_sorted, showfliers=False, patch_artist=True,\n",
    "            boxprops=dict(facecolor=\"#FF432E\",linewidth=2.5), medianprops=dict(color=\"black\",linewidth=2.5), \n",
    "            whiskerprops = dict(linewidth=2.5)) \n",
    "bp2 = ax.boxplot(ADTnogo_speeds_sorted, showfliers=False, patch_artist=True,\n",
    "            boxprops=dict(facecolor=\"#53BBF4\",linewidth=2.5), medianprops=dict(color=\"black\",linewidth=2.5), \n",
    "            whiskerprops = dict(linewidth=2.5)) \n",
    "ax.set_xticks(np.arange(0.5,41.5,1))\n",
    "ax.set_xticklabels(np.round(np.arange(-2.0,2.1,binsize),2),rotation=45)\n",
    "ax.spines['top'].set_visible(False)\n",
    "ax.spines['right'].set_visible(False)\n",
    "plt.axvline(x=20.5,  linestyle=\"dashed\", color='black')\n",
    "plt.xlabel('Time relative to cue onset (s)',fontsize=14)\n",
    "plt.ylabel('Velocity (rps)',fontsize=14)\n",
    "#plt.ylim([-0.2, 0.5])\n",
    "plt.title('No-Go Trials',fontsize=18)\n",
    "plt.savefig(r\"\\\\filenest.diskstation.me\\Wilbrecht_file_server\\Madeline\\figures\\Fig3C_NogoRunning.svg\", format='svg')\n",
    "plt.show()"
   ]
  },
  {
   "cell_type": "markdown",
   "id": "60e24ac9",
   "metadata": {},
   "source": [
    "# 2. Change in Running Velocity\n",
    "Does running velocity change after cue onset?"
   ]
  },
  {
   "cell_type": "code",
   "execution_count": null,
   "id": "6a68e882",
   "metadata": {},
   "outputs": [],
   "source": [
    "exp_folder = r\"\\\\filenest.diskstation.me\\Wilbrecht_file_server\\HongliWang\\Madeline\\LateLearning\\Data\"\n",
    "\n",
    "# initialize lists\n",
    "# to sort by individual cue, initialize 32 lists: ADTcue1_pre, ADTcue1_post, JUVcue1_pre, JUVcue1_post, etc.\n",
    "ADTpre_go = []\n",
    "ADTpost_go = []\n",
    "JUVpre_go = []\n",
    "JUVpost_go = []\n",
    "ADTdelta_go = []\n",
    "JUVdelta_go = []\n",
    "ADTpre_nogo = []\n",
    "ADTpost_nogo = []\n",
    "JUVpre_nogo = []\n",
    "JUVpost_nogo = []\n",
    "ADTdelta_nogo = []\n",
    "JUVdelta_nogo = []\n",
    "\n",
    "for animal in os.listdir(exp_folder):\n",
    "    animal_path = os.path.join(exp_folder,animal)\n",
    "    for session in os.listdir(animal_path):\n",
    "        session_path = os.path.join(animal_path,session)\n",
    "        # to sort by individual cue, initialize 16 lists: cue1_pre, cue1_post, etc.\n",
    "        go_precue = []\n",
    "        go_postcue = []\n",
    "        nogo_precue = []\n",
    "        nogo_postcue = []\n",
    "        if os.path.isdir(os.path.join(session_path,'suite2p')):\n",
    "            print(animal, session)\n",
    "            behav_folder = fr\"\\\\filenest.diskstation.me\\Wilbrecht_file_server\\Madeline\\processed_data\\Data\\{animal}\\{session}\"\n",
    "            behavior = pd.read_csv(fr\"{behav_folder}\\{animal}_{session}_behavior_output.csv\")\n",
    "            behavior[['licks','running_speed','running_time']] = behavior[['licks','running_speed','running_time']].applymap(literal_eval)        \n",
    "            # to sort by individual cue, subset 8 dataframes: cue1 = behavior[behavior['sound_num']==1] etc.\n",
    "            go = behavior[behavior['go_nogo']=='go']\n",
    "            nogo = behavior[behavior['go_nogo']=='nogo']\n",
    "            # # to sort by individual cue, copy and paste the following section and edit as needed for all cues\n",
    "            for index, trial in go.iterrows():\n",
    "                onset_time = trial['onset']\n",
    "                for stamp in range(0,len(trial['running_time'])):\n",
    "                    if trial['running_time'][stamp] - onset_time < 0 and trial['running_time'][stamp] - onset_time > -2:\n",
    "                        go_precue.append(trial['running_speed'][stamp])\n",
    "                    if trial['running_time'][stamp] - onset_time < 2 and trial['running_time'][stamp] - onset_time > 0:\n",
    "                        go_postcue.append(trial['running_speed'][stamp])\n",
    "            for index, trial in nogo.iterrows():\n",
    "                onset_time = trial['onset']\n",
    "                for stamp in range(0,len(trial['running_time'])):\n",
    "                    if trial['running_time'][stamp] - onset_time < 0 and trial['running_time'][stamp] - onset_time > -2:\n",
    "                        nogo_precue.append(trial['running_speed'][stamp])\n",
    "                    if trial['running_time'][stamp] - onset_time < 2 and trial['running_time'][stamp] - onset_time > 0:\n",
    "                        nogo_postcue.append(trial['running_speed'][stamp])\n",
    "            if 'ADT' in animal or 'TRA' in animal:\n",
    "                # to sort by individual cue, make sure to append data to all 16 lists:\n",
    "                ADTpost_go.append(np.mean(go_postcue))\n",
    "                ADTpost_nogo.append(np.mean(nogo_postcue))\n",
    "                ADTdelta_go.append(np.mean(go_precue)-np.mean(go_postcue))\n",
    "                ADTdelta_nogo.append(np.mean(nogo_precue)-np.mean(nogo_postcue))\n",
    "            if 'JUV' in animal:\n",
    "                JUVpost_go.append(np.mean(go_postcue))\n",
    "                JUVpost_nogo.append(np.mean(nogo_postcue))\n",
    "                JUVdelta_go.append(np.mean(go_precue)-np.mean(go_postcue))\n",
    "                JUVdelta_nogo.append(np.mean(nogo_precue)-np.mean(nogo_postcue))"
   ]
  },
  {
   "cell_type": "markdown",
   "id": "4083568e",
   "metadata": {},
   "source": [
    "We can't calculate statistics with nan values, and one adult session (ADT010-220415, I think) didn't collect running data. So let's remove nans:"
   ]
  },
  {
   "cell_type": "code",
   "execution_count": null,
   "id": "06d3df37",
   "metadata": {},
   "outputs": [],
   "source": [
    "# if sorting by individual cues, make sure to copy and paste this code and edit to account for all cues\n",
    "ADTdelta_nogo = [x for x in ADTdelta_nogo if str(x) != 'nan']\n",
    "ADTdelta_go = [x for x in ADTdelta_go if str(x) != 'nan']"
   ]
  },
  {
   "cell_type": "markdown",
   "id": "cf246cda",
   "metadata": {},
   "source": [
    "print out each list and copy and paste into Prism for analysis/figure generation:"
   ]
  },
  {
   "cell_type": "code",
   "execution_count": null,
   "id": "f9918730",
   "metadata": {},
   "outputs": [],
   "source": [
    "print(ADTdelta_nogo)\n",
    "print(ADTdelta_go)\n",
    "print(JUVdelta_nogo)\n",
    "print(JUVdelta_go)"
   ]
  },
  {
   "cell_type": "markdown",
   "id": "56dbaee5",
   "metadata": {},
   "source": [
    "To test whether the change in running speed is significantly different from zero (i.e., did speed change between the precue and postcue period?):"
   ]
  },
  {
   "cell_type": "code",
   "execution_count": null,
   "id": "6a71d3fa",
   "metadata": {},
   "outputs": [],
   "source": [
    "t_statistic, p_value = scipy.stats.ttest_1samp(a=ADTdelta_nogo, popmean=0) \n",
    "print(\"Is adult no-go modulation significantly different from zero?\")\n",
    "print(t_statistic , p_value)\n",
    "t_statistic, p_value = scipy.stats.ttest_1samp(a=ADTdelta_go, popmean=0) \n",
    "print(\"Is adult go modulation significantly different from zero?\")\n",
    "print(t_statistic , p_value)\n",
    "t_statistic, p_value = scipy.stats.ttest_1samp(a=JUVdelta_nogo, popmean=0) \n",
    "print(\"Is adolescent no-go modulation significantly different from zero?\")\n",
    "print(t_statistic , p_value)\n",
    "t_statistic, p_value = scipy.stats.ttest_1samp(a=JUVdelta_go, popmean=0) \n",
    "print(\"Is adolescent go modulation significantly different from zero?\")\n",
    "print(t_statistic , p_value)"
   ]
  },
  {
   "cell_type": "markdown",
   "id": "ccc75068",
   "metadata": {},
   "source": [
    "Or run a Mann-Whitney U test (because data is not normally distributed) to test whether there are individual differences between cues:"
   ]
  },
  {
   "cell_type": "code",
   "execution_count": null,
   "id": "16d5e562",
   "metadata": {},
   "outputs": [],
   "source": [
    "scipy.stats.mannwhitneyu(JUVdelta_cue5,JUVdelta_cue8)"
   ]
  },
  {
   "cell_type": "markdown",
   "id": "f4dedcc7",
   "metadata": {},
   "source": [
    "# 3. Licking Behavior by Previous Trial Type"
   ]
  },
  {
   "cell_type": "markdown",
   "id": "95a64939",
   "metadata": {},
   "source": [
    "We wanted to see how the previous trial impacted animals' licking behavior on the current trial, inspired by the Mizrahi lab."
   ]
  },
  {
   "cell_type": "code",
   "execution_count": 1,
   "id": "94dd95b8",
   "metadata": {},
   "outputs": [],
   "source": [
    "# initialize\n",
    "exp_folder = r\"\\\\filenest.diskstation.me\\Wilbrecht_file_server\\HongliWang\\Madeline\\LateLearning\\Data\"\n",
    "\n",
    "JUV_prevhit=[]\n",
    "JUV_prevCR=[]\n",
    "JUV_prevFA=[]\n",
    "JUV_prevmiss=[]\n",
    "\n",
    "ADT_prevhit=[]\n",
    "ADT_prevCR=[]\n",
    "ADT_prevFA=[]\n",
    "ADT_prevmiss=[]"
   ]
  },
  {
   "cell_type": "code",
   "execution_count": 4,
   "id": "d9c87f6c",
   "metadata": {
    "scrolled": true
   },
   "outputs": [
    {
     "name": "stdout",
     "output_type": "stream",
     "text": [
      "ADT004 220208\n",
      "ADT006 220202\n",
      "ADT006 220203\n",
      "ADT006 220204\n",
      "ADT006 220205\n",
      "ADT008 220418\n",
      "ADT008 220419\n",
      "ADT008 220422\n",
      "ADT009 220415\n",
      "ADT010 220413\n",
      "ADT010 220414\n",
      "ADT010 220415\n",
      "ADT013 230221\n",
      "ADT013 230223\n",
      "ADT013 230224\n",
      "ADT017 230309\n",
      "ADT017 230310\n",
      "ADT017 230312\n",
      "ADT018 230312\n",
      "ADT019 230310\n",
      "ADT019 230311\n",
      "ADT020 230310\n",
      "ADT027 231211\n",
      "ADT027 231212\n",
      "ADT028 231209\n",
      "ADT028 231210\n",
      "ADT028 231211\n",
      "ADT028 231212\n",
      "ADT029 231215\n",
      "JUV010 211211\n",
      "JUV010 211212\n",
      "JUV010 211213\n",
      "JUV010 211214\n",
      "JUV010 211215\n",
      "JUV010 211216\n",
      "JUV010 211217\n",
      "JUV011 211211\n",
      "JUV011 211212\n",
      "JUV011 211213\n",
      "JUV011 211214\n",
      "JUV011 211215\n",
      "JUV011 211216\n",
      "JUV011 211217\n",
      "JUV014 220403\n",
      "JUV014 220404\n",
      "JUV014 220405\n",
      "JUV014 220406\n",
      "JUV014 220407\n",
      "JUV015 220407\n",
      "JUV015 220408\n",
      "JUV015 220409\n",
      "JUV015 220410\n",
      "JUV015 220412\n",
      "JUV016 220406\n",
      "JUV016 220407\n",
      "JUV016 220408\n",
      "JUV016 220409\n",
      "JUV016 220410\n",
      "JUV016 220411\n",
      "JUV016 220412\n",
      "JUV017 221031\n",
      "JUV017 221101\n",
      "JUV017 221102\n",
      "JUV017 221103\n",
      "JUV017 221106\n",
      "JUV017 221107\n",
      "JUV022 230201\n",
      "JUV025 230224\n",
      "JUV025 230301\n",
      "JUV025 230302\n",
      "JUV025 230303\n"
     ]
    }
   ],
   "source": [
    "for animal in os.listdir(exp_folder):\n",
    "    animal_path = os.path.join(exp_folder,animal)\n",
    "    animal_prevhit = []\n",
    "    animal_prevCR = []\n",
    "    animal_prevFA = []\n",
    "    animal_prevmiss = [] \n",
    "    for session in os.listdir(animal_path):\n",
    "        session_path = os.path.join(animal_path,session)\n",
    "        # if only evaluating animals with imaging data, uncomment the line below:\n",
    "#        if os.path.isdir(os.path.join(session_path,'suite2p')):\n",
    "        print (animal, session)\n",
    "        input_folder = fr\"\\\\filenest.diskstation.me\\Wilbrecht_file_server\\Madeline\\processed_data\\Data\\{animal}\\{session}\"\n",
    "        behavior = pd.read_csv(fr\"{input_folder}\\{animal}_{session}_behavior_output.csv\")\n",
    "        # keep track of the number of previous trial outcomes\n",
    "        prevhit = 0\n",
    "        prevCR = 0\n",
    "        prevFA = 0\n",
    "        prevmiss = 0\n",
    "        # keep track of the number of current trials with licking based on the previous trial outcome\n",
    "        prevhit_lick = 0\n",
    "        prevCR_lick = 0\n",
    "        prevFA_lick = 0\n",
    "        prevmiss_lick = 0\n",
    "        for index, trial in behavior.iterrows():\n",
    "            if index > 0: # if this is not the first trial\n",
    "                prev_trial = behavior.iloc[index-1] # look at the previous trial\n",
    "                # evaluate the previous trial outcome\n",
    "                if prev_trial['trialType']==2: # if previous trial was coded as a hit\n",
    "                    prevhit += 1 # increase count of trials that were hits\n",
    "                    if trial['licks_out'] > 0: # if animal licked on the current trial\n",
    "                        prevhit_lick += 1 # increase count of \"trials where the previous trial was a hit, and animal licked\"\n",
    "                elif prev_trial['trialType']==0:\n",
    "                    prevCR += 1\n",
    "                    if trial['licks_out'] > 0:\n",
    "                        prevCR_lick += 1\n",
    "                elif prev_trial['trialType']==-1:\n",
    "                    prevFA += 1\n",
    "                    if trial['licks_out'] > 0:\n",
    "                        prevFA_lick += 1\n",
    "                elif prev_trial['trialType']==-2:\n",
    "                    prevmiss += 1 \n",
    "                    if trial['licks_out'] > 0:\n",
    "                        prevmiss_lick += 1\n",
    "        # calculate the fraction of trials where animals licked based on the outcome of the previous trial, \n",
    "        # out of the total number of previous trials with that specific outcome\n",
    "        # all sessions had at least one hit, so we don't need a if/else loop to calculate the fraction for hits\n",
    "        animal_prevhit.append(prevhit_lick/prevhit)\n",
    "        if prevCR > 0: # check to make sure there was at least one CR before dividing\n",
    "            animal_prevCR.append(prevCR_lick/prevCR)  \n",
    "        else:\n",
    "            animal_prevCR.append(np.nan)\n",
    "        if prevFA > 0:\n",
    "            animal_prevFA.append(prevFA_lick/prevFA)\n",
    "        else:\n",
    "            animal_prevFA.append(np.nan)\n",
    "        if prevmiss > 0:\n",
    "            animal_prevmiss.append(prevmiss_lick/prevmiss)\n",
    "        else:\n",
    "            animal_prevmiss.append(np.nan)\n",
    "    if 'ADT' in animal and animal_prevhit != []:\n",
    "        ADT_prevhit.append(animal_prevhit)\n",
    "        ADT_prevCR.append(animal_prevCR)\n",
    "        ADT_prevFA.append(animal_prevFA)\n",
    "        ADT_prevmiss.append(animal_prevmiss)\n",
    "    if 'TRA' in animal and animal_prevhit != []:\n",
    "        ADT_prevhit.append(animal_prevhit)\n",
    "        ADT_prevCR.append(animal_prevCR)\n",
    "        ADT_prevFA.append(animal_prevFA)\n",
    "        ADT_prevmiss.append(animal_prevmiss)\n",
    "    if 'JUV' in animal  and animal_prevhit != []:\n",
    "        JUV_prevhit.append(animal_prevhit)\n",
    "        JUV_prevCR.append(animal_prevCR)\n",
    "        JUV_prevFA.append(animal_prevFA)\n",
    "        JUV_prevmiss.append(animal_prevmiss)"
   ]
  },
  {
   "cell_type": "markdown",
   "id": "d9a8d889",
   "metadata": {},
   "source": [
    "The previous cell made lists of lists - one list for each animal. This is useful for keeping track of which session belongs to which animal, but annoying for further analysis. In the cell below, we concatenate these lists of lists."
   ]
  },
  {
   "cell_type": "code",
   "execution_count": 5,
   "id": "28f8ac8a",
   "metadata": {},
   "outputs": [],
   "source": [
    "JUVprevhit = [session for animal in JUV_prevhit for session in animal]\n",
    "ADTprevhit = [session for animal in ADT_prevhit for session in animal]\n",
    "JUVprevCR = [session for animal in JUV_prevCR for session in animal]\n",
    "ADTprevCR = [session for animal in ADT_prevCR for session in animal]\n",
    "JUVprevFA = [session for animal in JUV_prevFA for session in animal]\n",
    "ADTprevFA = [session for animal in ADT_prevFA for session in animal]\n",
    "JUVprevmiss = [session for animal in JUV_prevmiss for session in animal]\n",
    "ADTprevmiss = [session for animal in ADT_prevmiss for session in animal]"
   ]
  },
  {
   "cell_type": "markdown",
   "id": "e8c99ad4",
   "metadata": {},
   "source": [
    "We can't plot with any nans:"
   ]
  },
  {
   "cell_type": "code",
   "execution_count": 12,
   "id": "7985ac06",
   "metadata": {},
   "outputs": [],
   "source": [
    "# expand to all lists if needed\n",
    "JUVprevmiss = [x for x in JUVprevmiss if str(x) != 'nan']\n",
    "ADTprevmiss = [x for x in ADTprevmiss if str(x) != 'nan']"
   ]
  },
  {
   "cell_type": "markdown",
   "id": "efdec1c0",
   "metadata": {},
   "source": [
    "Now plot!"
   ]
  },
  {
   "cell_type": "code",
   "execution_count": 13,
   "id": "1868d57b",
   "metadata": {},
   "outputs": [
    {
     "data": {
      "image/png": "[encoded data removed]",
      "text/plain": [
       "<Figure size 288x288 with 1 Axes>"
      ]
     },
     "metadata": {
      "needs_background": "light"
     },
     "output_type": "display_data"
    }
   ],
   "source": [
    "import matplotlib.pyplot as plt\n",
    "%matplotlib inline\n",
    "\n",
    "JUV = [JUVprevCR, JUVprevFA, JUVprevhit, JUVprevmiss]\n",
    "ADT = [ADTprevCR, ADTprevFA, ADTprevhit, ADTprevmiss]\n",
    "fig = plt.figure(figsize=(4,4))\n",
    "ax  = fig.add_subplot(111)\n",
    "labels=['CR','FA','hit','miss']\n",
    "bplot = ax.boxplot(JUV, labels=labels, patch_artist=True, showfliers=False,\n",
    "                   medianprops = dict(color = \"black\", linewidth = 1.5))\n",
    "plt.setp(bplot[\"boxes\"], facecolor='skyblue')\n",
    "ax.set_title('Fraction Trials Licked by Previous Trial Type', fontsize=14)\n",
    "ax.tick_params(labelsize=14)"
   ]
  },
  {
   "cell_type": "markdown",
   "id": "fad4d8a2",
   "metadata": {},
   "source": [
    "We can also print out each list to copy and paste it into Prism for additional analysis and plotting:"
   ]
  },
  {
   "cell_type": "code",
   "execution_count": null,
   "id": "7a143fdd",
   "metadata": {},
   "outputs": [],
   "source": [
    "print(\"ADT:\")\n",
    "print(\"hit: \", ADTprevhit)\n",
    "print(\"FA: \", ADTprevFA)\n",
    "print(\"CR: \", ADTprevCR)\n",
    "print(\"miss: \", ADTprevmiss)\n",
    "print(\"JUV:\")\n",
    "print(\"hit: \", JUVprevhit)\n",
    "print(\"FA: \", JUVprevFA)\n",
    "print(\"CR: \",JUVprevCR)\n",
    "print(\"miss: \", JUVprevmiss)"
   ]
  },
  {
   "cell_type": "markdown",
   "id": "ebaee081",
   "metadata": {},
   "source": [
    "We can run individual Mann-Whitney U tests here, if we're curious, or we can do that in Prism too."
   ]
  },
  {
   "cell_type": "code",
   "execution_count": null,
   "id": "4221e404",
   "metadata": {},
   "outputs": [],
   "source": [
    "scipy.stats.mannwhitneyu(ADTprevmiss,JUVprevmiss)"
   ]
  },
  {
   "cell_type": "markdown",
   "id": "6afad799",
   "metadata": {},
   "source": [
    "# 4. Counting Fractions of Trials by Outcome"
   ]
  },
  {
   "cell_type": "markdown",
   "id": "a5bae596",
   "metadata": {},
   "source": [
    "Here's the code I used to report the fractions of trial outcomes for adults and adolescents:"
   ]
  },
  {
   "cell_type": "code",
   "execution_count": 19,
   "id": "76794d48",
   "metadata": {},
   "outputs": [],
   "source": [
    "exp_folder = r\"\\\\filenest.diskstation.me\\Wilbrecht_file_server\\HongliWang\\Madeline\\LateLearning\\Data\"\n",
    "\n",
    "ADThit = []\n",
    "ADTFA = []\n",
    "ADTCR = []\n",
    "ADTmiss = []\n",
    "JUVhit = []\n",
    "JUVFA = []\n",
    "JUVCR = []\n",
    "JUVmiss = []\n",
    "ADTtrials = 0\n",
    "JUVtrials = 0\n",
    "\n",
    "for animal in os.listdir(exp_folder):\n",
    "    animal_path = os.path.join(exp_folder,animal)\n",
    "    for session in os.listdir(animal_path):\n",
    "        session_path = os.path.join(animal_path,session)\n",
    "        input_folder = fr\"\\\\filenest.diskstation.me\\Wilbrecht_file_server\\Madeline\\processed_data\\Data\\{animal}\\{session}\"\n",
    "        behavior = pd.read_csv(fr\"{input_folder}\\{animal}_{session}_behavior_output.csv\")\n",
    "        hit = 0\n",
    "        CR = 0\n",
    "        FA = 0\n",
    "        miss = 0\n",
    "        for index, trial in behavior.iterrows():\n",
    "            if trial['trialType']==2:\n",
    "                hit += 1\n",
    "            elif trial['trialType']==0:\n",
    "                CR += 1\n",
    "            elif trial['trialType']==-1:\n",
    "                FA += 1\n",
    "            elif trial['trialType']==-2:\n",
    "                miss += 1 \n",
    "        if 'ADT' in animal or 'TRA' in animal:\n",
    "            ADThit.append(hit/behavior.shape[0])\n",
    "            ADTCR.append(CR/behavior.shape[0])\n",
    "            ADTFA.append(FA/behavior.shape[0])\n",
    "            ADTmiss.append(miss/behavior.shape[0])\n",
    "            ADTtrials += behavior.shape[0]\n",
    "        if 'JUV' in animal:\n",
    "            JUVhit.append(hit/behavior.shape[0])\n",
    "            JUVCR.append(CR/behavior.shape[0])\n",
    "            JUVFA.append(FA/behavior.shape[0])\n",
    "            JUVmiss.append(miss/behavior.shape[0])\n",
    "            JUVtrials += behavior.shape[0]"
   ]
  },
  {
   "cell_type": "code",
   "execution_count": 37,
   "id": "1bb64108",
   "metadata": {},
   "outputs": [
    {
     "name": "stdout",
     "output_type": "stream",
     "text": [
      "total JUV trials:  18070\n",
      "JUV hit %:  45.0\n",
      "JUV hit SEM %:  0.6\n"
     ]
    }
   ],
   "source": [
    "# print out here to report stats in paper\n",
    "print('total JUV trials: ', JUVtrials)\n",
    "print('JUV hit %: ', round(np.mean(JUVhit)*100,1))\n",
    "print('JUV hit SEM %: ', round(scipy.stats.sem(JUVhit)*100,1))"
   ]
  },
  {
   "cell_type": "markdown",
   "id": "feb833b7",
   "metadata": {},
   "source": [
    "I was also curious when in each session miss trials occured, so here I collect the trial number of each miss trial for all adults and adolescents and normalize it to the total number of trials to find out when in the session each miss occurred:"
   ]
  },
  {
   "cell_type": "code",
   "execution_count": 147,
   "id": "b6ea85f6",
   "metadata": {},
   "outputs": [],
   "source": [
    "exp_folder = r\"\\\\filenest.diskstation.me\\Wilbrecht_file_server\\HongliWang\\Madeline\\LateLearning\\Data\"\n",
    "\n",
    "ADTmisstrials = []\n",
    "JUVmisstrials = []\n",
    "\n",
    "for animal in os.listdir(exp_folder):\n",
    "    animal_path = os.path.join(exp_folder,animal)\n",
    "    for session in os.listdir(animal_path):\n",
    "        session_path = os.path.join(animal_path,session)\n",
    "        input_folder = fr\"\\\\filenest.diskstation.me\\Wilbrecht_file_server\\Madeline\\processed_data\\Data\\{animal}\\{session}\"\n",
    "        behavior = pd.read_csv(fr\"{input_folder}\\{animal}_{session}_behavior_output.csv\")\n",
    "        for index, trial in behavior.iterrows():\n",
    "            if trial['trialType']==-2:    \n",
    "                if 'ADT' in animal or 'TRA' in animal:\n",
    "                    ADTmisstrials.append(index/behavior.shape[0])\n",
    "                if 'JUV' in animal:\n",
    "                    JUVmisstrials.append(index/behavior.shape[0])"
   ]
  },
  {
   "cell_type": "code",
   "execution_count": 159,
   "id": "148fcc8c",
   "metadata": {
    "scrolled": true
   },
   "outputs": [
    {
     "data": {
      "text/plain": [
       "Text(0.5, 1.0, 'Miss Trials Over Session')"
      ]
     },
     "execution_count": 159,
     "metadata": {},
     "output_type": "execute_result"
    },
    {
     "data": {
      "image/png": "[encoded data removed]",
      "text/plain": [
       "<Figure size 432x288 with 1 Axes>"
      ]
     },
     "metadata": {
      "needs_background": "light"
     },
     "output_type": "display_data"
    }
   ],
   "source": [
    "lickfreq_bins = np.linspace(0,1,20)\n",
    "JUVweight = np.ones_like(JUVmisstrials) / len(JUVmisstrials)\n",
    "ADTweight = np.ones_like(ADTmisstrials) / len(ADTmisstrials)\n",
    "plt.hist(ADTmisstrials, bins=lickfreq_bins, weights=ADTweight, color=\"#53BBF4\", ec='gray', alpha=1, label='Adult')\n",
    "plt.hist(JUVmisstrials, bins=lickfreq_bins, weights=JUVweight, color=\"#FF432E\", ec='gray', alpha=0.5, label='Adolescent')\n",
    "plt.legend(loc='upper left',prop={'size': 12})\n",
    "plt.xlabel('Miss trials (as fraction of total #)',fontsize=14)\n",
    "plt.ylabel('Fraction of Trials',fontsize=14)\n",
    "plt.title('Miss Trials Over Session',fontsize=16)\n",
    "#stat, pval = scipy.stats.mannwhitneyu(ADTavg_numlicks_go,ADTavg_numlicks_nogo)\n",
    "#plt.text(9, 0.3, \"p = \" + str(pval), fontsize = 12)"
   ]
  }
 ],
 "metadata": {
  "kernelspec": {
   "display_name": "Python 3 (ipykernel)",
   "language": "python",
   "name": "python3"
  },
  "language_info": {
   "codemirror_mode": {
    "name": "ipython",
    "version": 3
   },
   "file_extension": ".py",
   "mimetype": "text/x-python",
   "name": "python",
   "nbconvert_exporter": "python",
   "pygments_lexer": "ipython3",
   "version": "3.9.12"
  }
 },
 "nbformat": 4,
 "nbformat_minor": 5
}
